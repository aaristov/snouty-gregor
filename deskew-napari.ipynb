{
 "cells": [
  {
   "cell_type": "code",
   "execution_count": 4,
   "id": "526bfccc-1cb2-4b19-a368-7309fce475f3",
   "metadata": {},
   "outputs": [],
   "source": [
    "import zarr\n",
    "import numpy as np\n",
    "from dask_image.imread import imread\n",
    "import dask.array as da\n",
    "from glob import glob\n",
    "from napari import Viewer"
   ]
  },
  {
   "cell_type": "code",
   "execution_count": 2,
   "id": "bd4191fd-a44a-4a10-8bb9-4ac390473fc5",
   "metadata": {},
   "outputs": [],
   "source": [
    "v = Viewer()"
   ]
  },
  {
   "cell_type": "code",
   "execution_count": 2,
   "id": "7bf40cc1-ca26-4ccd-8b2c-5744e469e24d",
   "metadata": {},
   "outputs": [
    {
     "data": {
      "text/plain": [
       "['561', '488', '405']"
      ]
     },
     "execution_count": 2,
     "metadata": {},
     "output_type": "execute_result"
    }
   ],
   "source": [
    "paths = glob(\"/Users/aaristov/Downloads/20241108-snouty-test2/*/*.tif\")\n",
    "names = [_.split(\"/\")[-2] for _ in paths]\n",
    "names"
   ]
  },
  {
   "cell_type": "code",
   "execution_count": 3,
   "id": "79b3b810-569a-4d33-aaf3-19fccf221ec7",
   "metadata": {},
   "outputs": [
    {
     "data": {
      "text/html": [
       "<table>\n",
       "    <tr>\n",
       "        <td>\n",
       "            <table style=\"border-collapse: collapse;\">\n",
       "                <thead>\n",
       "                    <tr>\n",
       "                        <td> </td>\n",
       "                        <th> Array </th>\n",
       "                        <th> Chunk </th>\n",
       "                    </tr>\n",
       "                </thead>\n",
       "                <tbody>\n",
       "                    \n",
       "                    <tr>\n",
       "                        <th> Bytes </th>\n",
       "                        <td> 4.29 GiB </td>\n",
       "                        <td> 4.83 MiB </td>\n",
       "                    </tr>\n",
       "                    \n",
       "                    <tr>\n",
       "                        <th> Shape </th>\n",
       "                        <td> (3, 303, 1100, 2304) </td>\n",
       "                        <td> (1, 1, 1100, 2304) </td>\n",
       "                    </tr>\n",
       "                    <tr>\n",
       "                        <th> Dask graph </th>\n",
       "                        <td colspan=\"2\"> 909 chunks in 13 graph layers </td>\n",
       "                    </tr>\n",
       "                    <tr>\n",
       "                        <th> Data type </th>\n",
       "                        <td colspan=\"2\"> uint16 numpy.ndarray </td>\n",
       "                    </tr>\n",
       "                </tbody>\n",
       "            </table>\n",
       "        </td>\n",
       "        <td>\n",
       "        <svg width=\"383\" height=\"130\" style=\"stroke:rgb(0,0,0);stroke-width:1\" >\n",
       "\n",
       "  <!-- Horizontal lines -->\n",
       "  <line x1=\"0\" y1=\"0\" x2=\"25\" y2=\"0\" style=\"stroke-width:2\" />\n",
       "  <line x1=\"0\" y1=\"25\" x2=\"25\" y2=\"25\" style=\"stroke-width:2\" />\n",
       "\n",
       "  <!-- Vertical lines -->\n",
       "  <line x1=\"0\" y1=\"0\" x2=\"0\" y2=\"25\" style=\"stroke-width:2\" />\n",
       "  <line x1=\"8\" y1=\"0\" x2=\"8\" y2=\"25\" />\n",
       "  <line x1=\"16\" y1=\"0\" x2=\"16\" y2=\"25\" />\n",
       "  <line x1=\"25\" y1=\"0\" x2=\"25\" y2=\"25\" style=\"stroke-width:2\" />\n",
       "\n",
       "  <!-- Colored Rectangle -->\n",
       "  <polygon points=\"0.0,0.0 25.412616514582485,0.0 25.412616514582485,25.412616514582485 0.0,25.412616514582485\" style=\"fill:#ECB172A0;stroke-width:0\"/>\n",
       "\n",
       "  <!-- Text -->\n",
       "  <text x=\"12.706308\" y=\"45.412617\" font-size=\"1.0rem\" font-weight=\"100\" text-anchor=\"middle\" >3</text>\n",
       "  <text x=\"45.412617\" y=\"12.706308\" font-size=\"1.0rem\" font-weight=\"100\" text-anchor=\"middle\" transform=\"rotate(0,45.412617,12.706308)\">1</text>\n",
       "\n",
       "\n",
       "  <!-- Horizontal lines -->\n",
       "  <line x1=\"95\" y1=\"0\" x2=\"118\" y2=\"23\" style=\"stroke-width:2\" />\n",
       "  <line x1=\"95\" y1=\"57\" x2=\"118\" y2=\"80\" style=\"stroke-width:2\" />\n",
       "\n",
       "  <!-- Vertical lines -->\n",
       "  <line x1=\"95\" y1=\"0\" x2=\"95\" y2=\"57\" style=\"stroke-width:2\" />\n",
       "  <line x1=\"95\" y1=\"0\" x2=\"95\" y2=\"57\" />\n",
       "  <line x1=\"96\" y1=\"1\" x2=\"96\" y2=\"58\" />\n",
       "  <line x1=\"97\" y1=\"2\" x2=\"97\" y2=\"59\" />\n",
       "  <line x1=\"97\" y1=\"2\" x2=\"97\" y2=\"60\" />\n",
       "  <line x1=\"98\" y1=\"3\" x2=\"98\" y2=\"60\" />\n",
       "  <line x1=\"99\" y1=\"4\" x2=\"99\" y2=\"61\" />\n",
       "  <line x1=\"100\" y1=\"5\" x2=\"100\" y2=\"62\" />\n",
       "  <line x1=\"100\" y1=\"5\" x2=\"100\" y2=\"63\" />\n",
       "  <line x1=\"101\" y1=\"6\" x2=\"101\" y2=\"63\" />\n",
       "  <line x1=\"102\" y1=\"7\" x2=\"102\" y2=\"64\" />\n",
       "  <line x1=\"103\" y1=\"8\" x2=\"103\" y2=\"65\" />\n",
       "  <line x1=\"103\" y1=\"8\" x2=\"103\" y2=\"66\" />\n",
       "  <line x1=\"104\" y1=\"9\" x2=\"104\" y2=\"66\" />\n",
       "  <line x1=\"105\" y1=\"10\" x2=\"105\" y2=\"67\" />\n",
       "  <line x1=\"106\" y1=\"11\" x2=\"106\" y2=\"68\" />\n",
       "  <line x1=\"106\" y1=\"11\" x2=\"106\" y2=\"69\" />\n",
       "  <line x1=\"107\" y1=\"12\" x2=\"107\" y2=\"69\" />\n",
       "  <line x1=\"108\" y1=\"13\" x2=\"108\" y2=\"70\" />\n",
       "  <line x1=\"108\" y1=\"13\" x2=\"108\" y2=\"71\" />\n",
       "  <line x1=\"109\" y1=\"14\" x2=\"109\" y2=\"71\" />\n",
       "  <line x1=\"110\" y1=\"15\" x2=\"110\" y2=\"72\" />\n",
       "  <line x1=\"111\" y1=\"16\" x2=\"111\" y2=\"73\" />\n",
       "  <line x1=\"111\" y1=\"16\" x2=\"111\" y2=\"74\" />\n",
       "  <line x1=\"112\" y1=\"17\" x2=\"112\" y2=\"74\" />\n",
       "  <line x1=\"113\" y1=\"18\" x2=\"113\" y2=\"75\" />\n",
       "  <line x1=\"114\" y1=\"19\" x2=\"114\" y2=\"76\" />\n",
       "  <line x1=\"114\" y1=\"19\" x2=\"114\" y2=\"77\" />\n",
       "  <line x1=\"115\" y1=\"20\" x2=\"115\" y2=\"77\" />\n",
       "  <line x1=\"116\" y1=\"21\" x2=\"116\" y2=\"78\" />\n",
       "  <line x1=\"117\" y1=\"22\" x2=\"117\" y2=\"79\" />\n",
       "  <line x1=\"117\" y1=\"22\" x2=\"117\" y2=\"80\" />\n",
       "  <line x1=\"118\" y1=\"23\" x2=\"118\" y2=\"80\" style=\"stroke-width:2\" />\n",
       "\n",
       "  <!-- Colored Rectangle -->\n",
       "  <polygon points=\"95.0,0.0 118.56137454617739,23.561374546177387 118.56137454617739,80.85304121284405 95.0,57.291666666666664\" style=\"fill:#8B4903A0;stroke-width:0\"/>\n",
       "\n",
       "  <!-- Horizontal lines -->\n",
       "  <line x1=\"95\" y1=\"0\" x2=\"215\" y2=\"0\" style=\"stroke-width:2\" />\n",
       "  <line x1=\"95\" y1=\"0\" x2=\"215\" y2=\"0\" />\n",
       "  <line x1=\"96\" y1=\"1\" x2=\"216\" y2=\"1\" />\n",
       "  <line x1=\"97\" y1=\"2\" x2=\"217\" y2=\"2\" />\n",
       "  <line x1=\"97\" y1=\"2\" x2=\"217\" y2=\"2\" />\n",
       "  <line x1=\"98\" y1=\"3\" x2=\"218\" y2=\"3\" />\n",
       "  <line x1=\"99\" y1=\"4\" x2=\"219\" y2=\"4\" />\n",
       "  <line x1=\"100\" y1=\"5\" x2=\"220\" y2=\"5\" />\n",
       "  <line x1=\"100\" y1=\"5\" x2=\"220\" y2=\"5\" />\n",
       "  <line x1=\"101\" y1=\"6\" x2=\"221\" y2=\"6\" />\n",
       "  <line x1=\"102\" y1=\"7\" x2=\"222\" y2=\"7\" />\n",
       "  <line x1=\"103\" y1=\"8\" x2=\"223\" y2=\"8\" />\n",
       "  <line x1=\"103\" y1=\"8\" x2=\"223\" y2=\"8\" />\n",
       "  <line x1=\"104\" y1=\"9\" x2=\"224\" y2=\"9\" />\n",
       "  <line x1=\"105\" y1=\"10\" x2=\"225\" y2=\"10\" />\n",
       "  <line x1=\"106\" y1=\"11\" x2=\"226\" y2=\"11\" />\n",
       "  <line x1=\"106\" y1=\"11\" x2=\"226\" y2=\"11\" />\n",
       "  <line x1=\"107\" y1=\"12\" x2=\"227\" y2=\"12\" />\n",
       "  <line x1=\"108\" y1=\"13\" x2=\"228\" y2=\"13\" />\n",
       "  <line x1=\"108\" y1=\"13\" x2=\"228\" y2=\"13\" />\n",
       "  <line x1=\"109\" y1=\"14\" x2=\"229\" y2=\"14\" />\n",
       "  <line x1=\"110\" y1=\"15\" x2=\"230\" y2=\"15\" />\n",
       "  <line x1=\"111\" y1=\"16\" x2=\"231\" y2=\"16\" />\n",
       "  <line x1=\"111\" y1=\"16\" x2=\"231\" y2=\"16\" />\n",
       "  <line x1=\"112\" y1=\"17\" x2=\"232\" y2=\"17\" />\n",
       "  <line x1=\"113\" y1=\"18\" x2=\"233\" y2=\"18\" />\n",
       "  <line x1=\"114\" y1=\"19\" x2=\"234\" y2=\"19\" />\n",
       "  <line x1=\"114\" y1=\"19\" x2=\"234\" y2=\"19\" />\n",
       "  <line x1=\"115\" y1=\"20\" x2=\"235\" y2=\"20\" />\n",
       "  <line x1=\"116\" y1=\"21\" x2=\"236\" y2=\"21\" />\n",
       "  <line x1=\"117\" y1=\"22\" x2=\"237\" y2=\"22\" />\n",
       "  <line x1=\"117\" y1=\"22\" x2=\"237\" y2=\"22\" />\n",
       "  <line x1=\"118\" y1=\"23\" x2=\"238\" y2=\"23\" style=\"stroke-width:2\" />\n",
       "\n",
       "  <!-- Vertical lines -->\n",
       "  <line x1=\"95\" y1=\"0\" x2=\"118\" y2=\"23\" style=\"stroke-width:2\" />\n",
       "  <line x1=\"215\" y1=\"0\" x2=\"238\" y2=\"23\" style=\"stroke-width:2\" />\n",
       "\n",
       "  <!-- Colored Rectangle -->\n",
       "  <polygon points=\"95.0,0.0 215.0,0.0 238.56137454617738,23.561374546177387 118.56137454617739,23.561374546177387\" style=\"fill:#8B4903A0;stroke-width:0\"/>\n",
       "\n",
       "  <!-- Horizontal lines -->\n",
       "  <line x1=\"118\" y1=\"23\" x2=\"238\" y2=\"23\" style=\"stroke-width:2\" />\n",
       "  <line x1=\"118\" y1=\"80\" x2=\"238\" y2=\"80\" style=\"stroke-width:2\" />\n",
       "\n",
       "  <!-- Vertical lines -->\n",
       "  <line x1=\"118\" y1=\"23\" x2=\"118\" y2=\"80\" style=\"stroke-width:2\" />\n",
       "  <line x1=\"238\" y1=\"23\" x2=\"238\" y2=\"80\" style=\"stroke-width:2\" />\n",
       "\n",
       "  <!-- Colored Rectangle -->\n",
       "  <polygon points=\"118.56137454617739,23.561374546177387 238.56137454617738,23.561374546177387 238.56137454617738,80.85304121284405 118.56137454617739,80.85304121284405\" style=\"fill:#ECB172A0;stroke-width:0\"/>\n",
       "\n",
       "  <!-- Text -->\n",
       "  <text x=\"178.561375\" y=\"100.853041\" font-size=\"1.0rem\" font-weight=\"100\" text-anchor=\"middle\" >2304</text>\n",
       "  <text x=\"258.561375\" y=\"52.207208\" font-size=\"1.0rem\" font-weight=\"100\" text-anchor=\"middle\" transform=\"rotate(-90,258.561375,52.207208)\">1100</text>\n",
       "  <text x=\"96.780687\" y=\"89.072354\" font-size=\"1.0rem\" font-weight=\"100\" text-anchor=\"middle\" transform=\"rotate(45,96.780687,89.072354)\">303</text>\n",
       "</svg>\n",
       "        </td>\n",
       "    </tr>\n",
       "</table>"
      ],
      "text/plain": [
       "dask.array<stack, shape=(3, 303, 1100, 2304), dtype=uint16, chunksize=(1, 1, 1100, 2304), chunktype=numpy.ndarray>"
      ]
     },
     "execution_count": 3,
     "metadata": {},
     "output_type": "execute_result"
    }
   ],
   "source": [
    "a = da.array(list(map(imread, paths)))\n",
    "a"
   ]
  },
  {
   "cell_type": "code",
   "execution_count": 5,
   "id": "bd0c267a-617f-40a9-bd58-c71d9d5d9927",
   "metadata": {},
   "outputs": [],
   "source": [
    "a[:,:,::4,::4].to_zarr(\"/Users/aaristov/Downloads/20241108-snouty-test2/bin4.zarr\")"
   ]
  },
  {
   "cell_type": "code",
   "execution_count": 7,
   "id": "4c427db9-4959-4627-b9fd-1ac2bde7f1ff",
   "metadata": {},
   "outputs": [
    {
     "name": "stderr",
     "output_type": "stream",
     "text": [
      "/Users/aaristov/miniconda3/envs/napari/lib/python3.10/site-packages/zarr/creation.py:250: UserWarning: ignoring keyword argument 'read_only'\n",
      "  warn('ignoring keyword argument %r' % k)\n"
     ]
    },
    {
     "data": {
      "text/html": [
       "<table>\n",
       "    <tr>\n",
       "        <td>\n",
       "            <table style=\"border-collapse: collapse;\">\n",
       "                <thead>\n",
       "                    <tr>\n",
       "                        <td> </td>\n",
       "                        <th> Array </th>\n",
       "                        <th> Chunk </th>\n",
       "                    </tr>\n",
       "                </thead>\n",
       "                <tbody>\n",
       "                    \n",
       "                    <tr>\n",
       "                        <th> Bytes </th>\n",
       "                        <td> 274.63 MiB </td>\n",
       "                        <td> 309.38 kiB </td>\n",
       "                    </tr>\n",
       "                    \n",
       "                    <tr>\n",
       "                        <th> Shape </th>\n",
       "                        <td> (3, 303, 275, 576) </td>\n",
       "                        <td> (1, 1, 275, 576) </td>\n",
       "                    </tr>\n",
       "                    <tr>\n",
       "                        <th> Dask graph </th>\n",
       "                        <td colspan=\"2\"> 909 chunks in 2 graph layers </td>\n",
       "                    </tr>\n",
       "                    <tr>\n",
       "                        <th> Data type </th>\n",
       "                        <td colspan=\"2\"> uint16 numpy.ndarray </td>\n",
       "                    </tr>\n",
       "                </tbody>\n",
       "            </table>\n",
       "        </td>\n",
       "        <td>\n",
       "        <svg width=\"397\" height=\"144\" style=\"stroke:rgb(0,0,0);stroke-width:1\" >\n",
       "\n",
       "  <!-- Horizontal lines -->\n",
       "  <line x1=\"0\" y1=\"0\" x2=\"25\" y2=\"0\" style=\"stroke-width:2\" />\n",
       "  <line x1=\"0\" y1=\"25\" x2=\"25\" y2=\"25\" style=\"stroke-width:2\" />\n",
       "\n",
       "  <!-- Vertical lines -->\n",
       "  <line x1=\"0\" y1=\"0\" x2=\"0\" y2=\"25\" style=\"stroke-width:2\" />\n",
       "  <line x1=\"8\" y1=\"0\" x2=\"8\" y2=\"25\" />\n",
       "  <line x1=\"16\" y1=\"0\" x2=\"16\" y2=\"25\" />\n",
       "  <line x1=\"25\" y1=\"0\" x2=\"25\" y2=\"25\" style=\"stroke-width:2\" />\n",
       "\n",
       "  <!-- Colored Rectangle -->\n",
       "  <polygon points=\"0.0,0.0 25.412616514582485,0.0 25.412616514582485,25.412616514582485 0.0,25.412616514582485\" style=\"fill:#ECB172A0;stroke-width:0\"/>\n",
       "\n",
       "  <!-- Text -->\n",
       "  <text x=\"12.706308\" y=\"45.412617\" font-size=\"1.0rem\" font-weight=\"100\" text-anchor=\"middle\" >3</text>\n",
       "  <text x=\"45.412617\" y=\"12.706308\" font-size=\"1.0rem\" font-weight=\"100\" text-anchor=\"middle\" transform=\"rotate(0,45.412617,12.706308)\">1</text>\n",
       "\n",
       "\n",
       "  <!-- Horizontal lines -->\n",
       "  <line x1=\"95\" y1=\"0\" x2=\"132\" y2=\"37\" style=\"stroke-width:2\" />\n",
       "  <line x1=\"95\" y1=\"57\" x2=\"132\" y2=\"94\" style=\"stroke-width:2\" />\n",
       "\n",
       "  <!-- Vertical lines -->\n",
       "  <line x1=\"95\" y1=\"0\" x2=\"95\" y2=\"57\" style=\"stroke-width:2\" />\n",
       "  <line x1=\"96\" y1=\"1\" x2=\"96\" y2=\"58\" />\n",
       "  <line x1=\"97\" y1=\"2\" x2=\"97\" y2=\"59\" />\n",
       "  <line x1=\"98\" y1=\"3\" x2=\"98\" y2=\"60\" />\n",
       "  <line x1=\"99\" y1=\"4\" x2=\"99\" y2=\"61\" />\n",
       "  <line x1=\"100\" y1=\"5\" x2=\"100\" y2=\"63\" />\n",
       "  <line x1=\"101\" y1=\"6\" x2=\"101\" y2=\"64\" />\n",
       "  <line x1=\"103\" y1=\"8\" x2=\"103\" y2=\"65\" />\n",
       "  <line x1=\"104\" y1=\"9\" x2=\"104\" y2=\"66\" />\n",
       "  <line x1=\"105\" y1=\"10\" x2=\"105\" y2=\"67\" />\n",
       "  <line x1=\"106\" y1=\"11\" x2=\"106\" y2=\"68\" />\n",
       "  <line x1=\"107\" y1=\"12\" x2=\"107\" y2=\"70\" />\n",
       "  <line x1=\"108\" y1=\"13\" x2=\"108\" y2=\"71\" />\n",
       "  <line x1=\"110\" y1=\"15\" x2=\"110\" y2=\"72\" />\n",
       "  <line x1=\"111\" y1=\"16\" x2=\"111\" y2=\"73\" />\n",
       "  <line x1=\"112\" y1=\"17\" x2=\"112\" y2=\"74\" />\n",
       "  <line x1=\"113\" y1=\"18\" x2=\"113\" y2=\"75\" />\n",
       "  <line x1=\"114\" y1=\"19\" x2=\"114\" y2=\"76\" />\n",
       "  <line x1=\"115\" y1=\"20\" x2=\"115\" y2=\"78\" />\n",
       "  <line x1=\"116\" y1=\"21\" x2=\"116\" y2=\"79\" />\n",
       "  <line x1=\"118\" y1=\"23\" x2=\"118\" y2=\"80\" />\n",
       "  <line x1=\"119\" y1=\"24\" x2=\"119\" y2=\"81\" />\n",
       "  <line x1=\"120\" y1=\"25\" x2=\"120\" y2=\"82\" />\n",
       "  <line x1=\"121\" y1=\"26\" x2=\"121\" y2=\"83\" />\n",
       "  <line x1=\"122\" y1=\"27\" x2=\"122\" y2=\"85\" />\n",
       "  <line x1=\"123\" y1=\"28\" x2=\"123\" y2=\"86\" />\n",
       "  <line x1=\"125\" y1=\"30\" x2=\"125\" y2=\"87\" />\n",
       "  <line x1=\"126\" y1=\"31\" x2=\"126\" y2=\"88\" />\n",
       "  <line x1=\"127\" y1=\"32\" x2=\"127\" y2=\"89\" />\n",
       "  <line x1=\"128\" y1=\"33\" x2=\"128\" y2=\"90\" />\n",
       "  <line x1=\"129\" y1=\"34\" x2=\"129\" y2=\"92\" />\n",
       "  <line x1=\"130\" y1=\"35\" x2=\"130\" y2=\"93\" />\n",
       "  <line x1=\"132\" y1=\"37\" x2=\"132\" y2=\"94\" style=\"stroke-width:2\" />\n",
       "\n",
       "  <!-- Colored Rectangle -->\n",
       "  <polygon points=\"95.0,0.0 132.13235294117646,37.13235294117647 132.13235294117646,94.42401960784314 95.0,57.291666666666664\" style=\"fill:#8B4903A0;stroke-width:0\"/>\n",
       "\n",
       "  <!-- Horizontal lines -->\n",
       "  <line x1=\"95\" y1=\"0\" x2=\"215\" y2=\"0\" style=\"stroke-width:2\" />\n",
       "  <line x1=\"96\" y1=\"1\" x2=\"216\" y2=\"1\" />\n",
       "  <line x1=\"97\" y1=\"2\" x2=\"217\" y2=\"2\" />\n",
       "  <line x1=\"98\" y1=\"3\" x2=\"218\" y2=\"3\" />\n",
       "  <line x1=\"99\" y1=\"4\" x2=\"219\" y2=\"4\" />\n",
       "  <line x1=\"100\" y1=\"5\" x2=\"220\" y2=\"5\" />\n",
       "  <line x1=\"101\" y1=\"6\" x2=\"221\" y2=\"6\" />\n",
       "  <line x1=\"103\" y1=\"8\" x2=\"223\" y2=\"8\" />\n",
       "  <line x1=\"104\" y1=\"9\" x2=\"224\" y2=\"9\" />\n",
       "  <line x1=\"105\" y1=\"10\" x2=\"225\" y2=\"10\" />\n",
       "  <line x1=\"106\" y1=\"11\" x2=\"226\" y2=\"11\" />\n",
       "  <line x1=\"107\" y1=\"12\" x2=\"227\" y2=\"12\" />\n",
       "  <line x1=\"108\" y1=\"13\" x2=\"228\" y2=\"13\" />\n",
       "  <line x1=\"110\" y1=\"15\" x2=\"230\" y2=\"15\" />\n",
       "  <line x1=\"111\" y1=\"16\" x2=\"231\" y2=\"16\" />\n",
       "  <line x1=\"112\" y1=\"17\" x2=\"232\" y2=\"17\" />\n",
       "  <line x1=\"113\" y1=\"18\" x2=\"233\" y2=\"18\" />\n",
       "  <line x1=\"114\" y1=\"19\" x2=\"234\" y2=\"19\" />\n",
       "  <line x1=\"115\" y1=\"20\" x2=\"235\" y2=\"20\" />\n",
       "  <line x1=\"116\" y1=\"21\" x2=\"236\" y2=\"21\" />\n",
       "  <line x1=\"118\" y1=\"23\" x2=\"238\" y2=\"23\" />\n",
       "  <line x1=\"119\" y1=\"24\" x2=\"239\" y2=\"24\" />\n",
       "  <line x1=\"120\" y1=\"25\" x2=\"240\" y2=\"25\" />\n",
       "  <line x1=\"121\" y1=\"26\" x2=\"241\" y2=\"26\" />\n",
       "  <line x1=\"122\" y1=\"27\" x2=\"242\" y2=\"27\" />\n",
       "  <line x1=\"123\" y1=\"28\" x2=\"243\" y2=\"28\" />\n",
       "  <line x1=\"125\" y1=\"30\" x2=\"245\" y2=\"30\" />\n",
       "  <line x1=\"126\" y1=\"31\" x2=\"246\" y2=\"31\" />\n",
       "  <line x1=\"127\" y1=\"32\" x2=\"247\" y2=\"32\" />\n",
       "  <line x1=\"128\" y1=\"33\" x2=\"248\" y2=\"33\" />\n",
       "  <line x1=\"129\" y1=\"34\" x2=\"249\" y2=\"34\" />\n",
       "  <line x1=\"130\" y1=\"35\" x2=\"250\" y2=\"35\" />\n",
       "  <line x1=\"132\" y1=\"37\" x2=\"252\" y2=\"37\" style=\"stroke-width:2\" />\n",
       "\n",
       "  <!-- Vertical lines -->\n",
       "  <line x1=\"95\" y1=\"0\" x2=\"132\" y2=\"37\" style=\"stroke-width:2\" />\n",
       "  <line x1=\"215\" y1=\"0\" x2=\"252\" y2=\"37\" style=\"stroke-width:2\" />\n",
       "\n",
       "  <!-- Colored Rectangle -->\n",
       "  <polygon points=\"95.0,0.0 215.0,0.0 252.13235294117646,37.13235294117647 132.13235294117646,37.13235294117647\" style=\"fill:#8B4903A0;stroke-width:0\"/>\n",
       "\n",
       "  <!-- Horizontal lines -->\n",
       "  <line x1=\"132\" y1=\"37\" x2=\"252\" y2=\"37\" style=\"stroke-width:2\" />\n",
       "  <line x1=\"132\" y1=\"94\" x2=\"252\" y2=\"94\" style=\"stroke-width:2\" />\n",
       "\n",
       "  <!-- Vertical lines -->\n",
       "  <line x1=\"132\" y1=\"37\" x2=\"132\" y2=\"94\" style=\"stroke-width:2\" />\n",
       "  <line x1=\"252\" y1=\"37\" x2=\"252\" y2=\"94\" style=\"stroke-width:2\" />\n",
       "\n",
       "  <!-- Colored Rectangle -->\n",
       "  <polygon points=\"132.13235294117646,37.13235294117647 252.13235294117646,37.13235294117647 252.13235294117646,94.42401960784314 132.13235294117646,94.42401960784314\" style=\"fill:#ECB172A0;stroke-width:0\"/>\n",
       "\n",
       "  <!-- Text -->\n",
       "  <text x=\"192.132353\" y=\"114.424020\" font-size=\"1.0rem\" font-weight=\"100\" text-anchor=\"middle\" >576</text>\n",
       "  <text x=\"272.132353\" y=\"65.778186\" font-size=\"1.0rem\" font-weight=\"100\" text-anchor=\"middle\" transform=\"rotate(-90,272.132353,65.778186)\">275</text>\n",
       "  <text x=\"103.566176\" y=\"95.857843\" font-size=\"1.0rem\" font-weight=\"100\" text-anchor=\"middle\" transform=\"rotate(45,103.566176,95.857843)\">303</text>\n",
       "</svg>\n",
       "        </td>\n",
       "    </tr>\n",
       "</table>"
      ],
      "text/plain": [
       "dask.array<from-zarr, shape=(3, 303, 275, 576), dtype=uint16, chunksize=(1, 1, 275, 576), chunktype=numpy.ndarray>"
      ]
     },
     "execution_count": 7,
     "metadata": {},
     "output_type": "execute_result"
    }
   ],
   "source": [
    "b = da.from_zarr(\"/Users/aaristov/Downloads/20241108-snouty-test2/bin4.zarr/\")\n",
    "b"
   ]
  },
  {
   "cell_type": "code",
   "execution_count": 8,
   "id": "ec44d156-2080-4dd0-92ea-75692fce36e7",
   "metadata": {},
   "outputs": [
    {
     "data": {
      "text/plain": [
       "[<Image layer '561' at 0x32c923e20>,\n",
       " <Image layer '488' at 0x3257c2800>,\n",
       " <Image layer '405' at 0x3232c8a90>]"
      ]
     },
     "execution_count": 8,
     "metadata": {},
     "output_type": "execute_result"
    }
   ],
   "source": [
    "v.add_image(b, channel_axis=0, name=names)"
   ]
  },
  {
   "cell_type": "code",
   "execution_count": null,
   "id": "7371c683",
   "metadata": {},
   "outputs": [],
   "source": [
    "for l in v.layers:\n",
    "    l.shear=[-1.,0,0]\n",
    "    l.scale=[1.5,.8,1]"
   ]
  },
  {
   "cell_type": "code",
   "execution_count": 8,
   "id": "49ef137f-3ad1-4d5d-ab6e-f6bb0d4fa125",
   "metadata": {},
   "outputs": [],
   "source": [
    "root = zarr.open(\"/Users/aaristov/Downloads/test.zarr\", mode=\"w\", shape=(1,100,100), dtype='u2')"
   ]
  },
  {
   "cell_type": "code",
   "execution_count": null,
   "id": "c7338c4a-9f63-40f0-9e9f-6d518caf6840",
   "metadata": {},
   "outputs": [],
   "source": []
  },
  {
   "cell_type": "code",
   "execution_count": 9,
   "id": "e27f119a-0467-43f4-ac7b-f94355e650fd",
   "metadata": {},
   "outputs": [],
   "source": [
    "root.attrs[\"shape\"] = [100,100]"
   ]
  },
  {
   "cell_type": "code",
   "execution_count": 13,
   "id": "c2f41375-fce0-491b-9f12-2343370a55be",
   "metadata": {},
   "outputs": [
    {
     "data": {
      "text/plain": [
       "(1, 100, 100)"
      ]
     },
     "execution_count": 13,
     "metadata": {},
     "output_type": "execute_result"
    }
   ],
   "source": [
    "root.chunks"
   ]
  },
  {
   "cell_type": "code",
   "execution_count": 11,
   "id": "8ce4324a-2548-4dd6-ba60-0a171ad2342a",
   "metadata": {},
   "outputs": [],
   "source": [
    "root[:] = 100"
   ]
  },
  {
   "cell_type": "code",
   "execution_count": 12,
   "id": "cab85157-1d03-4050-ac0f-8ac3a5d5307d",
   "metadata": {},
   "outputs": [],
   "source": [
    "root.resize((1,100,100))"
   ]
  },
  {
   "cell_type": "code",
   "execution_count": 16,
   "id": "bff3229f-03ad-4ec8-9eb9-605ba269fb79",
   "metadata": {},
   "outputs": [
    {
     "data": {
      "text/plain": [
       "(2, 100, 100)"
      ]
     },
     "execution_count": 16,
     "metadata": {},
     "output_type": "execute_result"
    }
   ],
   "source": [
    "root.append(np.zeros((1,100,100), dtype='u2'))"
   ]
  },
  {
   "cell_type": "code",
   "execution_count": 7,
   "id": "00a22548-7d92-47ae-8f35-6e343e06ee90",
   "metadata": {},
   "outputs": [],
   "source": [
    "z = zarr.open_group(store=\"/Users/aaristov/Downloads/test2.zarr\")"
   ]
  },
  {
   "cell_type": "code",
   "execution_count": 29,
   "id": "d5b4bffc-6d97-487b-b209-f531a87a0f83",
   "metadata": {},
   "outputs": [],
   "source": [
    "y = z.create_groups(\"405\", \"488\", \"561\")"
   ]
  },
  {
   "cell_type": "code",
   "execution_count": 30,
   "id": "dac09ba5-1595-40d2-83ed-1b9276208a39",
   "metadata": {},
   "outputs": [
    {
     "data": {
      "text/plain": [
       "(<zarr.hierarchy.Group '/405'>,\n",
       " <zarr.hierarchy.Group '/488'>,\n",
       " <zarr.hierarchy.Group '/561'>)"
      ]
     },
     "execution_count": 30,
     "metadata": {},
     "output_type": "execute_result"
    }
   ],
   "source": [
    "y"
   ]
  },
  {
   "cell_type": "code",
   "execution_count": 10,
   "id": "8cfac1cf-fac1-4402-8879-7dfaf76af253",
   "metadata": {},
   "outputs": [],
   "source": [
    "z['405']['0'] = a.compute()"
   ]
  },
  {
   "cell_type": "code",
   "execution_count": 15,
   "id": "4134232d-1aba-460b-a8bb-e60a4a3ba6bf",
   "metadata": {},
   "outputs": [
    {
     "ename": "TypeError",
     "evalue": "Group.create() takes 2 positional arguments but 3 were given",
     "output_type": "error",
     "traceback": [
      "\u001b[0;31m---------------------------------------------------------------------------\u001b[0m",
      "\u001b[0;31mTypeError\u001b[0m                                 Traceback (most recent call last)",
      "Cell \u001b[0;32mIn[15], line 1\u001b[0m\n\u001b[0;32m----> 1\u001b[0m \u001b[43mz\u001b[49m\u001b[43m[\u001b[49m\u001b[38;5;124;43m'\u001b[39;49m\u001b[38;5;124;43m488\u001b[39;49m\u001b[38;5;124;43m'\u001b[39;49m\u001b[43m]\u001b[49m\u001b[38;5;241;43m.\u001b[39;49m\u001b[43mcreate\u001b[49m\u001b[43m(\u001b[49m\u001b[38;5;124;43m\"\u001b[39;49m\u001b[38;5;124;43m0\u001b[39;49m\u001b[38;5;124;43m\"\u001b[39;49m\u001b[43m,\u001b[49m\u001b[43m \u001b[49m\u001b[43mimread\u001b[49m\u001b[43m(\u001b[49m\u001b[38;5;124;43m\"\u001b[39;49m\u001b[38;5;124;43m/Users/aaristov/Downloads/20241108-snouty-test2/488/volume_488_t0000.tif\u001b[39;49m\u001b[38;5;124;43m\"\u001b[39;49m\u001b[43m)\u001b[49m\u001b[43m,\u001b[49m\u001b[43m \u001b[49m\u001b[43mchunks\u001b[49m\u001b[38;5;241;43m=\u001b[39;49m\u001b[43m(\u001b[49m\u001b[38;5;241;43m1\u001b[39;49m\u001b[43m,\u001b[49m\u001b[43m \u001b[49m\u001b[38;5;241;43m1100\u001b[39;49m\u001b[43m,\u001b[49m\u001b[43m \u001b[49m\u001b[38;5;241;43m2304\u001b[39;49m\u001b[43m)\u001b[49m\u001b[43m)\u001b[49m\n",
      "\u001b[0;31mTypeError\u001b[0m: Group.create() takes 2 positional arguments but 3 were given"
     ]
    }
   ],
   "source": [
    "z['488'].create(\"0\", imread(\"/Users/aaristov/Downloads/20241108-snouty-test2/488/volume_488_t0000.tif\"), chunks=(1, 1100, 2304))"
   ]
  },
  {
   "cell_type": "code",
   "execution_count": 12,
   "id": "55618297-2a6d-4d98-b2ad-b8b7af3a5103",
   "metadata": {},
   "outputs": [
    {
     "data": {
      "text/plain": [
       "(38, 138, 288)"
      ]
     },
     "execution_count": 12,
     "metadata": {},
     "output_type": "execute_result"
    }
   ],
   "source": [
    "z['405']['0']"
   ]
  },
  {
   "cell_type": "code",
   "execution_count": 31,
   "id": "810a9733-0206-428b-8981-0dbf720caed2",
   "metadata": {},
   "outputs": [
    {
     "data": {
      "text/plain": [
       "<zarr.core.Array '/405/0' (1, 100, 100) float64>"
      ]
     },
     "execution_count": 31,
     "metadata": {},
     "output_type": "execute_result"
    }
   ],
   "source": [
    "z['405'].create(\"0\", shape=(1,100,100))"
   ]
  },
  {
   "cell_type": "code",
   "execution_count": 32,
   "id": "1bb134e2-fa25-45d2-aed3-b0bd43614969",
   "metadata": {},
   "outputs": [],
   "source": [
    "z['405'][\"0\"][:] = 100 "
   ]
  },
  {
   "cell_type": "code",
   "execution_count": 33,
   "id": "6413d0e0-6be5-4ff6-9244-ff58a25ef852",
   "metadata": {},
   "outputs": [],
   "source": [
    "z.attrs[\"channels\"] = [\"405\",\"488\",\"561\"]"
   ]
  },
  {
   "cell_type": "code",
   "execution_count": 34,
   "id": "a958a0d8-5b91-448f-8def-7f3681f0d68c",
   "metadata": {},
   "outputs": [
    {
     "data": {
      "text/plain": [
       "<zarr.hierarchy.Group '/'>"
      ]
     },
     "execution_count": 34,
     "metadata": {},
     "output_type": "execute_result"
    }
   ],
   "source": [
    "zarr.open_group(\"/Users/aaristov/Downloads/test2.zarr/\")"
   ]
  },
  {
   "cell_type": "code",
   "execution_count": null,
   "id": "3d4d729d-9861-4b06-8ce3-13c1c8bf9322",
   "metadata": {},
   "outputs": [],
   "source": [
    "z['405']['0'].resize(("
   ]
  }
 ],
 "metadata": {
  "kernelspec": {
   "display_name": "Python 3 (ipykernel)",
   "language": "python",
   "name": "python3"
  },
  "language_info": {
   "codemirror_mode": {
    "name": "ipython",
    "version": 3
   },
   "file_extension": ".py",
   "mimetype": "text/x-python",
   "name": "python",
   "nbconvert_exporter": "python",
   "pygments_lexer": "ipython3",
   "version": "3.10.9"
  }
 },
 "nbformat": 4,
 "nbformat_minor": 5
}
